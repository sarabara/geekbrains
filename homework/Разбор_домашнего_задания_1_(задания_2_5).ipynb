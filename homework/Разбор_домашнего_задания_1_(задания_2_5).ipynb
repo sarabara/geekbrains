{
  "nbformat": 4,
  "nbformat_minor": 0,
  "metadata": {
    "colab": {
      "name": "Разбор домашнего задания - 1 (задания 2-5).ipynb",
      "provenance": [],
      "collapsed_sections": []
    },
    "kernelspec": {
      "display_name": "Python 3",
      "language": "python",
      "name": "python3"
    }
  },
  "cells": [
    {
      "cell_type": "code",
      "metadata": {
        "id": "ZdC91mS_QTOy"
      },
      "source": [
        "import numpy as np"
      ],
      "execution_count": null,
      "outputs": []
    },
    {
      "cell_type": "markdown",
      "metadata": {
        "id": "dNJIqpVaQTPK"
      },
      "source": [
        "#### Задание 2"
      ]
    },
    {
      "cell_type": "markdown",
      "metadata": {
        "id": "AYx_4IrZQTPO"
      },
      "source": [
        "```\n",
        "Импортируйте библиотеку Numpy и дайте ей псевдоним np.\n",
        "Создайте массив Numpy под названием a размером 5x2, то есть состоящий из 5 строк и 2 столбцов.\n",
        "Первый столбец должен содержать числа 1, 2, 3, 3, 1, а второй - числа 6, 8, 11, 10, 7.\n",
        "Будем считать, что каждый столбец - это признак, а строка - наблюдение.\n",
        "\n",
        "Затем найдите среднее значение по каждому признаку, используя метод mean массива Numpy.\n",
        "Результат запишите в массив mean_a, в нем должно быть 2 элемента.\n",
        "```"
      ]
    },
    {
      "cell_type": "code",
      "metadata": {
        "id": "6oGBPeeaQTPT"
      },
      "source": [
        "a = np.array([[1, 6], \n",
        "              [2, 8], \n",
        "              [3, 11], \n",
        "              [3, 10], \n",
        "              [1, 7]])"
      ],
      "execution_count": null,
      "outputs": []
    },
    {
      "cell_type": "code",
      "metadata": {
        "id": "bEgMTeiRQTPh",
        "outputId": "eab2dbdc-68b4-473e-b48a-d99e28174ea2"
      },
      "source": [
        "a"
      ],
      "execution_count": null,
      "outputs": [
        {
          "output_type": "execute_result",
          "data": {
            "text/plain": [
              "array([[ 1,  6],\n",
              "       [ 2,  8],\n",
              "       [ 3, 11],\n",
              "       [ 3, 10],\n",
              "       [ 1,  7]])"
            ]
          },
          "metadata": {
            "tags": []
          },
          "execution_count": 3
        }
      ]
    },
    {
      "cell_type": "code",
      "metadata": {
        "id": "V8URhIh0QTP5",
        "outputId": "f961f4ba-c350-476c-c014-ce3424ae47aa"
      },
      "source": [
        "mean_a = a.mean(axis=0)\n",
        "mean_a"
      ],
      "execution_count": null,
      "outputs": [
        {
          "output_type": "execute_result",
          "data": {
            "text/plain": [
              "array([2. , 8.4])"
            ]
          },
          "metadata": {
            "tags": []
          },
          "execution_count": 4
        }
      ]
    },
    {
      "cell_type": "markdown",
      "metadata": {
        "id": "HGZpNc2oQTQG"
      },
      "source": [
        "#### Задание 3"
      ]
    },
    {
      "cell_type": "markdown",
      "metadata": {
        "id": "67_J0DPmQTQL"
      },
      "source": [
        "```\n",
        "Вычислите массив a_centered, отняв от значений массива а \n",
        "средние значения соответствующих признаков, содержащиеся в массиве mean_a.\n",
        "Вычисление должно производиться в одно действие.\n",
        "Получившийся массив должен иметь размер 5x2.\n",
        "\n",
        "```"
      ]
    },
    {
      "cell_type": "code",
      "metadata": {
        "id": "7fgP9wKwQTQO",
        "outputId": "5041e4f9-7ca5-49b4-df7c-1a6900008cc0"
      },
      "source": [
        "a_centered = a - mean_a\n",
        "a_centered"
      ],
      "execution_count": null,
      "outputs": [
        {
          "output_type": "execute_result",
          "data": {
            "text/plain": [
              "array([[-1. , -2.4],\n",
              "       [ 0. , -0.4],\n",
              "       [ 1. ,  2.6],\n",
              "       [ 1. ,  1.6],\n",
              "       [-1. , -1.4]])"
            ]
          },
          "metadata": {
            "tags": []
          },
          "execution_count": 5
        }
      ]
    },
    {
      "cell_type": "markdown",
      "metadata": {
        "id": "3hBUBv7QQTQg"
      },
      "source": [
        "#### Задание 4"
      ]
    },
    {
      "cell_type": "markdown",
      "metadata": {
        "id": "NGi-A57MQTQl"
      },
      "source": [
        "```\n",
        "Найдите скалярное произведение столбцов массива a_centered.\n",
        "В результате должна получиться величина a_centered_sp. \n",
        "Затем поделите a_centered_sp на N-1, где N - число наблюдений.\n",
        "```"
      ]
    },
    {
      "cell_type": "code",
      "metadata": {
        "id": "lZYCpn2CQTQs",
        "outputId": "bb43df5d-cf4f-48e2-b7fe-8934e95febc8"
      },
      "source": [
        "a_centered_sp = np.dot(a_centered[:, 0], a_centered[:, 1])\n",
        "a_centered_sp"
      ],
      "execution_count": null,
      "outputs": [
        {
          "output_type": "execute_result",
          "data": {
            "text/plain": [
              "8.0"
            ]
          },
          "metadata": {
            "tags": []
          },
          "execution_count": 7
        }
      ]
    },
    {
      "cell_type": "code",
      "metadata": {
        "id": "-gNev1C4QTRE",
        "outputId": "c787a098-5450-47f2-e8cf-2cb938698b1e"
      },
      "source": [
        "a_centered_sp / (a.shape[0] - 1)"
      ],
      "execution_count": null,
      "outputs": [
        {
          "output_type": "execute_result",
          "data": {
            "text/plain": [
              "2.0"
            ]
          },
          "metadata": {
            "tags": []
          },
          "execution_count": 8
        }
      ]
    },
    {
      "cell_type": "markdown",
      "metadata": {
        "collapsed": true,
        "id": "RwJ_SjO2QTRc"
      },
      "source": [
        "<h4>* Задание 5</h4>"
      ]
    },
    {
      "cell_type": "markdown",
      "metadata": {
        "id": "Rb0HNkfrQTRf"
      },
      "source": [
        "```\n",
        "Число, которое мы получили в конце задания 3 является \n",
        "ковариацией двух признаков, содержащихся в массиве а.\n",
        "В задании 3 мы делили сумму произведений центрированных \n",
        "признаков на N-1, а не на N, поэтому полученная нами величина \n",
        "является несмещенной оценкой ковариации.\n",
        "\n",
        "Подробнее узнать о ковариации можно здесь:\n",
        "```\n",
        "    https://studopedia.ru/9_153900_viborochnaya-kovariatsiya-i-viborochnaya-dispersiya.html\n",
        "```\n",
        "В этом задании проверьте получившееся число, вычислив\n",
        "ковариацию еще одним способом - с помощью функции np.cov.\n",
        "\n",
        "В качестве аргумента m функция np.cov должна принимать транспонированный массив a.\n",
        "В получившейся ковариационой матрице (массив Numpy) размером 2x2 искомое значение ковариации\n",
        "будет равно элементу в строке с индексом 0 и столбце с индексом 1.\n",
        "```"
      ]
    },
    {
      "cell_type": "code",
      "metadata": {
        "id": "6UwAQsMUQTRj",
        "outputId": "68327fa2-e20b-426c-e6ef-a1320fa7fa16"
      },
      "source": [
        "cov_matrix = np.cov(m=a.T)\n",
        "cov_matrix"
      ],
      "execution_count": null,
      "outputs": [
        {
          "output_type": "execute_result",
          "data": {
            "text/plain": [
              "array([[1. , 2. ],\n",
              "       [2. , 4.3]])"
            ]
          },
          "metadata": {
            "tags": []
          },
          "execution_count": 8
        }
      ]
    },
    {
      "cell_type": "code",
      "metadata": {
        "id": "nMi2Oe9YQTRt",
        "outputId": "a5151f22-ca5f-47f2-e556-6c9f964ac06a"
      },
      "source": [
        "cov_matrix[0, 1]"
      ],
      "execution_count": null,
      "outputs": [
        {
          "output_type": "execute_result",
          "data": {
            "text/plain": [
              "2.0"
            ]
          },
          "metadata": {
            "tags": []
          },
          "execution_count": 9
        }
      ]
    },
    {
      "cell_type": "code",
      "metadata": {
        "id": "cs3OpSkRQTR8"
      },
      "source": [
        ""
      ],
      "execution_count": null,
      "outputs": []
    }
  ]
}